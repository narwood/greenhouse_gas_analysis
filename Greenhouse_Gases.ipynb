{
 "cells": [
  {
   "cell_type": "code",
   "execution_count": 35,
   "id": "6282cbe5",
   "metadata": {},
   "outputs": [],
   "source": [
    "#importation and pandas on csv\n",
    "import math\n",
    "import random\n",
    "import matplotlib.pyplot as plt\n",
    "import numpy as np\n",
    "from scipy import stats\n",
    "import pandas as pd\n",
    "df = pd.read_csv (r'C:\\Users\\Suzanna Moran\\Downloads\\Annual_Greenhouse_Gas_(GHG)_Air_Emissions_Accounts.csv')"
   ]
  },
  {
   "cell_type": "code",
   "execution_count": 36,
   "id": "dada6c83",
   "metadata": {},
   "outputs": [
    {
     "name": "stdout",
     "output_type": "stream",
     "text": [
      "                 Country        Gas_Type        F2011        F2012  \\\n",
      "0     Advanced Economies  Carbon dioxide   191.288726   192.339165   \n",
      "1     Advanced Economies  Greenhouse gas  1349.547946  1334.080022   \n",
      "2     Advanced Economies         Methane   610.270324   610.012779   \n",
      "3     Advanced Economies   Nitrous oxide   547.988896   531.728078   \n",
      "4     Advanced Economies  Carbon dioxide   309.981379   311.931582   \n",
      "...                  ...             ...          ...          ...   \n",
      "1048               World   Nitrous oxide    64.393261    64.926048   \n",
      "1049               World  Carbon dioxide   231.071540   255.020810   \n",
      "1050               World  Greenhouse gas  2795.280460  2868.285412   \n",
      "1051               World         Methane  2442.058042  2487.932118   \n",
      "1052               World   Nitrous oxide   122.150877   125.332484   \n",
      "\n",
      "            F2013        F2014        F2015        F2016        F2017  \\\n",
      "0      189.879210   190.640948   192.311131   194.105776   192.704136   \n",
      "1     1377.129794  1392.838449  1398.296064  1388.139335  1392.272111   \n",
      "2      605.660005   606.433530   610.965086   616.762846   621.921696   \n",
      "3      581.590579   595.763971   595.019846   577.270713   577.646278   \n",
      "4      321.734883   324.584852   340.740833   362.842685   363.956350   \n",
      "...           ...          ...          ...          ...          ...   \n",
      "1048    65.861839    67.256189    67.641084    68.714743    70.909566   \n",
      "1049   258.297348   263.427288   271.748519   277.749986   279.746081   \n",
      "1050  2898.376789  2945.722164  2989.711922  3031.707121  3080.858664   \n",
      "1051  2511.646109  2551.971134  2585.507218  2618.931693  2663.410964   \n",
      "1052   128.433332   130.323742   132.456185   135.025442   137.701619   \n",
      "\n",
      "            F2018        F2019        F2020        F2021  \n",
      "0      193.513983   192.195495   185.547304   198.697198  \n",
      "1     1403.557273  1402.235004  1309.461477  1395.472813  \n",
      "2      625.163252   620.809814   578.861084   631.669794  \n",
      "3      584.880038   589.229695   545.053089   565.105820  \n",
      "4      367.397959   372.190736   342.460527   351.010492  \n",
      "...           ...          ...          ...          ...  \n",
      "1048    72.910515    75.393768    69.851800    74.303602  \n",
      "1049   280.538247   283.778512   279.077068   288.848298  \n",
      "1050  3125.628249  3188.183501  3045.400161  3343.656841  \n",
      "1051  2706.269276  2762.621585  2631.828053  2907.266047  \n",
      "1052   138.820726   141.783404   134.495039   147.542495  \n",
      "\n",
      "[1053 rows x 13 columns]\n"
     ]
    }
   ],
   "source": [
    "yearly_emissions = pd.read_csv(r'C:\\Users\\Suzanna Moran\\Downloads\\Annual_Greenhouse_Gas_(GHG)_Air_Emissions_Accounts.csv', usecols=[1, 9, 12,13,14, 15, 16, 17, 18, 19, 20, 21, 22])\n",
    "print(yearly_emissions)"
   ]
  },
  {
   "cell_type": "code",
   "execution_count": 41,
   "id": "06e89ba2",
   "metadata": {
    "scrolled": true
   },
   "outputs": [
    {
     "ename": "KeyError",
     "evalue": "1",
     "output_type": "error",
     "traceback": [
      "\u001b[1;31m---------------------------------------------------------------------------\u001b[0m",
      "\u001b[1;31mKeyError\u001b[0m                                  Traceback (most recent call last)",
      "File \u001b[1;32m~\\Anaconda\\lib\\site-packages\\pandas\\core\\indexes\\base.py:3621\u001b[0m, in \u001b[0;36mIndex.get_loc\u001b[1;34m(self, key, method, tolerance)\u001b[0m\n\u001b[0;32m   3620\u001b[0m \u001b[38;5;28;01mtry\u001b[39;00m:\n\u001b[1;32m-> 3621\u001b[0m     \u001b[38;5;28;01mreturn\u001b[39;00m \u001b[38;5;28;43mself\u001b[39;49m\u001b[38;5;241;43m.\u001b[39;49m\u001b[43m_engine\u001b[49m\u001b[38;5;241;43m.\u001b[39;49m\u001b[43mget_loc\u001b[49m\u001b[43m(\u001b[49m\u001b[43mcasted_key\u001b[49m\u001b[43m)\u001b[49m\n\u001b[0;32m   3622\u001b[0m \u001b[38;5;28;01mexcept\u001b[39;00m \u001b[38;5;167;01mKeyError\u001b[39;00m \u001b[38;5;28;01mas\u001b[39;00m err:\n",
      "File \u001b[1;32m~\\Anaconda\\lib\\site-packages\\pandas\\_libs\\index.pyx:136\u001b[0m, in \u001b[0;36mpandas._libs.index.IndexEngine.get_loc\u001b[1;34m()\u001b[0m\n",
      "File \u001b[1;32m~\\Anaconda\\lib\\site-packages\\pandas\\_libs\\index.pyx:163\u001b[0m, in \u001b[0;36mpandas._libs.index.IndexEngine.get_loc\u001b[1;34m()\u001b[0m\n",
      "File \u001b[1;32mpandas\\_libs\\hashtable_class_helper.pxi:5198\u001b[0m, in \u001b[0;36mpandas._libs.hashtable.PyObjectHashTable.get_item\u001b[1;34m()\u001b[0m\n",
      "File \u001b[1;32mpandas\\_libs\\hashtable_class_helper.pxi:5206\u001b[0m, in \u001b[0;36mpandas._libs.hashtable.PyObjectHashTable.get_item\u001b[1;34m()\u001b[0m\n",
      "\u001b[1;31mKeyError\u001b[0m: 1",
      "\nThe above exception was the direct cause of the following exception:\n",
      "\u001b[1;31mKeyError\u001b[0m                                  Traceback (most recent call last)",
      "Input \u001b[1;32mIn [41]\u001b[0m, in \u001b[0;36m<cell line: 4>\u001b[1;34m()\u001b[0m\n\u001b[0;32m      2\u001b[0m xVals \u001b[38;5;241m=\u001b[39m [\u001b[38;5;241m1\u001b[39m, \u001b[38;5;241m2\u001b[39m, \u001b[38;5;241m3\u001b[39m]\n\u001b[0;32m      3\u001b[0m plt\u001b[38;5;241m.\u001b[39mylim \u001b[38;5;241m=\u001b[39m(\u001b[38;5;241m1\u001b[39m,\u001b[38;5;241m4\u001b[39m)\n\u001b[1;32m----> 4\u001b[0m emissions \u001b[38;5;241m=\u001b[39m ([emissions_2010[i] \u001b[38;5;28;01mfor\u001b[39;00m i \u001b[38;5;129;01min\u001b[39;00m xVals])\n\u001b[0;32m      5\u001b[0m plt\u001b[38;5;241m.\u001b[39mbar(x, emissions, width\u001b[38;5;241m=\u001b[39m\u001b[38;5;241m0.5\u001b[39m, linewidth\u001b[38;5;241m=\u001b[39m\u001b[38;5;241m2\u001b[39m)\n\u001b[0;32m      6\u001b[0m plt\u001b[38;5;241m.\u001b[39mtitle(\u001b[38;5;124m\"\u001b[39m\u001b[38;5;124mEmissions by country\u001b[39m\u001b[38;5;124m\"\u001b[39m)\n",
      "Input \u001b[1;32mIn [41]\u001b[0m, in \u001b[0;36m<listcomp>\u001b[1;34m(.0)\u001b[0m\n\u001b[0;32m      2\u001b[0m xVals \u001b[38;5;241m=\u001b[39m [\u001b[38;5;241m1\u001b[39m, \u001b[38;5;241m2\u001b[39m, \u001b[38;5;241m3\u001b[39m]\n\u001b[0;32m      3\u001b[0m plt\u001b[38;5;241m.\u001b[39mylim \u001b[38;5;241m=\u001b[39m(\u001b[38;5;241m1\u001b[39m,\u001b[38;5;241m4\u001b[39m)\n\u001b[1;32m----> 4\u001b[0m emissions \u001b[38;5;241m=\u001b[39m ([\u001b[43memissions_2010\u001b[49m\u001b[43m[\u001b[49m\u001b[43mi\u001b[49m\u001b[43m]\u001b[49m \u001b[38;5;28;01mfor\u001b[39;00m i \u001b[38;5;129;01min\u001b[39;00m xVals])\n\u001b[0;32m      5\u001b[0m plt\u001b[38;5;241m.\u001b[39mbar(x, emissions, width\u001b[38;5;241m=\u001b[39m\u001b[38;5;241m0.5\u001b[39m, linewidth\u001b[38;5;241m=\u001b[39m\u001b[38;5;241m2\u001b[39m)\n\u001b[0;32m      6\u001b[0m plt\u001b[38;5;241m.\u001b[39mtitle(\u001b[38;5;124m\"\u001b[39m\u001b[38;5;124mEmissions by country\u001b[39m\u001b[38;5;124m\"\u001b[39m)\n",
      "File \u001b[1;32m~\\Anaconda\\lib\\site-packages\\pandas\\core\\frame.py:3505\u001b[0m, in \u001b[0;36mDataFrame.__getitem__\u001b[1;34m(self, key)\u001b[0m\n\u001b[0;32m   3503\u001b[0m \u001b[38;5;28;01mif\u001b[39;00m \u001b[38;5;28mself\u001b[39m\u001b[38;5;241m.\u001b[39mcolumns\u001b[38;5;241m.\u001b[39mnlevels \u001b[38;5;241m>\u001b[39m \u001b[38;5;241m1\u001b[39m:\n\u001b[0;32m   3504\u001b[0m     \u001b[38;5;28;01mreturn\u001b[39;00m \u001b[38;5;28mself\u001b[39m\u001b[38;5;241m.\u001b[39m_getitem_multilevel(key)\n\u001b[1;32m-> 3505\u001b[0m indexer \u001b[38;5;241m=\u001b[39m \u001b[38;5;28;43mself\u001b[39;49m\u001b[38;5;241;43m.\u001b[39;49m\u001b[43mcolumns\u001b[49m\u001b[38;5;241;43m.\u001b[39;49m\u001b[43mget_loc\u001b[49m\u001b[43m(\u001b[49m\u001b[43mkey\u001b[49m\u001b[43m)\u001b[49m\n\u001b[0;32m   3506\u001b[0m \u001b[38;5;28;01mif\u001b[39;00m is_integer(indexer):\n\u001b[0;32m   3507\u001b[0m     indexer \u001b[38;5;241m=\u001b[39m [indexer]\n",
      "File \u001b[1;32m~\\Anaconda\\lib\\site-packages\\pandas\\core\\indexes\\base.py:3623\u001b[0m, in \u001b[0;36mIndex.get_loc\u001b[1;34m(self, key, method, tolerance)\u001b[0m\n\u001b[0;32m   3621\u001b[0m     \u001b[38;5;28;01mreturn\u001b[39;00m \u001b[38;5;28mself\u001b[39m\u001b[38;5;241m.\u001b[39m_engine\u001b[38;5;241m.\u001b[39mget_loc(casted_key)\n\u001b[0;32m   3622\u001b[0m \u001b[38;5;28;01mexcept\u001b[39;00m \u001b[38;5;167;01mKeyError\u001b[39;00m \u001b[38;5;28;01mas\u001b[39;00m err:\n\u001b[1;32m-> 3623\u001b[0m     \u001b[38;5;28;01mraise\u001b[39;00m \u001b[38;5;167;01mKeyError\u001b[39;00m(key) \u001b[38;5;28;01mfrom\u001b[39;00m \u001b[38;5;21;01merr\u001b[39;00m\n\u001b[0;32m   3624\u001b[0m \u001b[38;5;28;01mexcept\u001b[39;00m \u001b[38;5;167;01mTypeError\u001b[39;00m:\n\u001b[0;32m   3625\u001b[0m     \u001b[38;5;66;03m# If we have a listlike key, _check_indexing_error will raise\u001b[39;00m\n\u001b[0;32m   3626\u001b[0m     \u001b[38;5;66;03m#  InvalidIndexError. Otherwise we fall through and re-raise\u001b[39;00m\n\u001b[0;32m   3627\u001b[0m     \u001b[38;5;66;03m#  the TypeError.\u001b[39;00m\n\u001b[0;32m   3628\u001b[0m     \u001b[38;5;28mself\u001b[39m\u001b[38;5;241m.\u001b[39m_check_indexing_error(key)\n",
      "\u001b[1;31mKeyError\u001b[0m: 1"
     ]
    }
   ],
   "source": [
    "emissions_2010 = pd.read_csv(r'C:\\Users\\Suzanna Moran\\Downloads\\Annual_Greenhouse_Gas_(GHG)_Air_Emissions_Accounts.csv', usecols=[12])\n",
    "xVals = [1, 2, 3]\n",
    "plt.ylim =(1,4)\n",
    "emissions = ([emissions_2010[i] for i in xVals])\n",
    "plt.bar(x, emissions, width=0.5, linewidth=2)\n",
    "plt.title(\"Emissions by country\")\n",
    "plt.xlabel(\"countries\")\n",
    "plt.ylabel(\"emissions\")\n",
    "plt.show()"
   ]
  },
  {
   "cell_type": "code",
   "execution_count": null,
   "id": "82319cab",
   "metadata": {},
   "outputs": [],
   "source": []
  }
 ],
 "metadata": {
  "kernelspec": {
   "display_name": "Python 3 (ipykernel)",
   "language": "python",
   "name": "python3"
  },
  "language_info": {
   "codemirror_mode": {
    "name": "ipython",
    "version": 3
   },
   "file_extension": ".py",
   "mimetype": "text/x-python",
   "name": "python",
   "nbconvert_exporter": "python",
   "pygments_lexer": "ipython3",
   "version": "3.9.12"
  }
 },
 "nbformat": 4,
 "nbformat_minor": 5
}
