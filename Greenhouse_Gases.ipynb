{
 "cells": [
  {
   "cell_type": "code",
   "execution_count": 19,
   "id": "fd815de8",
   "metadata": {},
   "outputs": [],
   "source": [
    "#importation and pandas on csv\n",
    "import pandas as pd\n",
    "df = pd.read_csv (r'C:\\Users\\Suzanna Moran\\Downloads\\Annual_Greenhouse_Gas_(GHG)_Air_Emissions_Accounts.csv')"
   ]
  },
  {
   "cell_type": "code",
   "execution_count": 23,
   "id": "a39acad9",
   "metadata": {},
   "outputs": [
    {
     "name": "stdout",
     "output_type": "stream",
     "text": [
      "                 Country        Gas_Type        F2011        F2012  \\\n",
      "0     Advanced Economies  Carbon dioxide   191.288726   192.339165   \n",
      "1     Advanced Economies  Greenhouse gas  1349.547946  1334.080022   \n",
      "2     Advanced Economies         Methane   610.270324   610.012779   \n",
      "3     Advanced Economies   Nitrous oxide   547.988896   531.728078   \n",
      "4     Advanced Economies  Carbon dioxide   309.981379   311.931582   \n",
      "...                  ...             ...          ...          ...   \n",
      "1048               World   Nitrous oxide    64.393261    64.926048   \n",
      "1049               World  Carbon dioxide   231.071540   255.020810   \n",
      "1050               World  Greenhouse gas  2795.280460  2868.285412   \n",
      "1051               World         Methane  2442.058042  2487.932118   \n",
      "1052               World   Nitrous oxide   122.150877   125.332484   \n",
      "\n",
      "            F2013        F2014        F2015        F2016        F2017  \\\n",
      "0      189.879210   190.640948   192.311131   194.105776   192.704136   \n",
      "1     1377.129794  1392.838449  1398.296064  1388.139335  1392.272111   \n",
      "2      605.660005   606.433530   610.965086   616.762846   621.921696   \n",
      "3      581.590579   595.763971   595.019846   577.270713   577.646278   \n",
      "4      321.734883   324.584852   340.740833   362.842685   363.956350   \n",
      "...           ...          ...          ...          ...          ...   \n",
      "1048    65.861839    67.256189    67.641084    68.714743    70.909566   \n",
      "1049   258.297348   263.427288   271.748519   277.749986   279.746081   \n",
      "1050  2898.376789  2945.722164  2989.711922  3031.707121  3080.858664   \n",
      "1051  2511.646109  2551.971134  2585.507218  2618.931693  2663.410964   \n",
      "1052   128.433332   130.323742   132.456185   135.025442   137.701619   \n",
      "\n",
      "            F2018        F2019        F2020        F2021  \n",
      "0      193.513983   192.195495   185.547304   198.697198  \n",
      "1     1403.557273  1402.235004  1309.461477  1395.472813  \n",
      "2      625.163252   620.809814   578.861084   631.669794  \n",
      "3      584.880038   589.229695   545.053089   565.105820  \n",
      "4      367.397959   372.190736   342.460527   351.010492  \n",
      "...           ...          ...          ...          ...  \n",
      "1048    72.910515    75.393768    69.851800    74.303602  \n",
      "1049   280.538247   283.778512   279.077068   288.848298  \n",
      "1050  3125.628249  3188.183501  3045.400161  3343.656841  \n",
      "1051  2706.269276  2762.621585  2631.828053  2907.266047  \n",
      "1052   138.820726   141.783404   134.495039   147.542495  \n",
      "\n",
      "[1053 rows x 13 columns]\n"
     ]
    }
   ],
   "source": [
    "yearly_emissions = pd.read_csv(r'C:\\Users\\Suzanna Moran\\Downloads\\Annual_Greenhouse_Gas_(GHG)_Air_Emissions_Accounts.csv', usecols=[1, 9, 12,13,14, 15, 16, 17, 18, 19, 20, 21, 22])\n",
    "print(yearly_emissions)"
   ]
  },
  {
   "cell_type": "code",
   "execution_count": 24,
   "id": "5b01c903",
   "metadata": {},
   "outputs": [
    {
     "ename": "SyntaxError",
     "evalue": "invalid syntax (1876216488.py, line 2)",
     "output_type": "error",
     "traceback": [
      "\u001b[1;36m  Input \u001b[1;32mIn [24]\u001b[1;36m\u001b[0m\n\u001b[1;33m    emissions_2010 = pd.read_csv(r'C:\\Users\\Suzanna Moran\\Downloads\\Annual_Greenhouse_Gas_(GHG)_Air_Emissions_Accounts.csv', usecols=[11]\u001b[0m\n\u001b[1;37m    ^\u001b[0m\n\u001b[1;31mSyntaxError\u001b[0m\u001b[1;31m:\u001b[0m invalid syntax\n"
     ]
    }
   ],
   "source": [
    "countries = pd.read_csv(r'C:\\Users\\Suzanna Moran\\Downloads\\Annual_Greenhouse_Gas_(GHG)_Air_Emissions_Accounts.csv', usecols=[1]\n",
    "emissions_2010 = pd.read_csv(r'C:\\Users\\Suzanna Moran\\Downloads\\Annual_Greenhouse_Gas_(GHG)_Air_Emissions_Accounts.csv', usecols=[11]\n",
    "x = np.arange(countries[0], countries[100], 1)\n",
    "plt.bar(x, emissions_2010 for n in x, width=0.5, linewidth=2)\n",
    "plt.title(\"Emissions by country\")\n",
    "plt.xlabel(\"countries\")\n",
    "plt.ylabel(\"emissions\")\n",
    "plt.show()"
   ]
  },
  {
   "cell_type": "code",
   "execution_count": null,
   "id": "69f8eeaf",
   "metadata": {},
   "outputs": [],
   "source": []
  }
 ],
 "metadata": {
  "kernelspec": {
   "display_name": "Python 3 (ipykernel)",
   "language": "python",
   "name": "python3"
  },
  "language_info": {
   "codemirror_mode": {
    "name": "ipython",
    "version": 3
   },
   "file_extension": ".py",
   "mimetype": "text/x-python",
   "name": "python",
   "nbconvert_exporter": "python",
   "pygments_lexer": "ipython3",
   "version": "3.9.12"
  }
 },
 "nbformat": 4,
 "nbformat_minor": 5
}
